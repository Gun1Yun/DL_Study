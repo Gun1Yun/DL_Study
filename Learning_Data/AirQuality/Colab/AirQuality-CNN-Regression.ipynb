{
 "cells": [
  {
   "cell_type": "code",
   "execution_count": 1,
   "metadata": {
    "colab": {
     "base_uri": "https://localhost:8080/"
    },
    "executionInfo": {
     "elapsed": 341,
     "status": "ok",
     "timestamp": 1623927016295,
     "user": {
      "displayName": "윤건일",
      "photoUrl": "",
      "userId": "05157393038207945770"
     },
     "user_tz": -540
    },
    "id": "lsBF7HfHm7I6",
    "outputId": "4b3ebc0c-b6de-4306-babd-d85e59f5f3c7"
   },
   "outputs": [
    {
     "data": {
      "text/plain": [
       "['/content/drive/MyDrive/GitHub/DL_Study/Base',\n",
       " '',\n",
       " '/content',\n",
       " '/env/python',\n",
       " '/usr/lib/python37.zip',\n",
       " '/usr/lib/python3.7',\n",
       " '/usr/lib/python3.7/lib-dynload',\n",
       " '/usr/local/lib/python3.7/dist-packages',\n",
       " '/usr/lib/python3/dist-packages',\n",
       " '/usr/local/lib/python3.7/dist-packages/IPython/extensions',\n",
       " '/root/.ipython']"
      ]
     },
     "execution_count": 1,
     "metadata": {
      "tags": []
     },
     "output_type": "execute_result"
    }
   ],
   "source": [
    "import os\n",
    "import sys\n",
    "\n",
    "MODULE_PATH = '/content/drive/MyDrive/GitHub/DL_Study/Base'\n",
    "\n",
    "sys.path.insert(0, MODULE_PATH)\n",
    "sys.path"
   ]
  },
  {
   "cell_type": "code",
   "execution_count": 2,
   "metadata": {
    "colab": {
     "base_uri": "https://localhost:8080/"
    },
    "executionInfo": {
     "elapsed": 3774,
     "status": "ok",
     "timestamp": 1623927020593,
     "user": {
      "displayName": "윤건일",
      "photoUrl": "",
      "userId": "05157393038207945770"
     },
     "user_tz": -540
    },
    "id": "GfVHeZtdm7q5",
    "outputId": "ec11ab3f-6ca4-40b5-9e82-bfabf9fd0d13"
   },
   "outputs": [
    {
     "name": "stdout",
     "output_type": "stream",
     "text": [
      "Requirement already satisfied: scikit-learn==0.24.2 in /usr/local/lib/python3.7/dist-packages (0.24.2)\n",
      "Requirement already satisfied: numpy>=1.13.3 in /usr/local/lib/python3.7/dist-packages (from scikit-learn==0.24.2) (1.19.5)\n",
      "Requirement already satisfied: threadpoolctl>=2.0.0 in /usr/local/lib/python3.7/dist-packages (from scikit-learn==0.24.2) (2.1.0)\n",
      "Requirement already satisfied: scipy>=0.19.1 in /usr/local/lib/python3.7/dist-packages (from scikit-learn==0.24.2) (1.4.1)\n",
      "Requirement already satisfied: joblib>=0.11 in /usr/local/lib/python3.7/dist-packages (from scikit-learn==0.24.2) (1.0.1)\n"
     ]
    }
   ],
   "source": [
    "# import\n",
    "import numpy\n",
    "from config import *\n",
    "from optim import Adam\n",
    "from models import CnnModelReg\n",
    "\n",
    "# for time series split\n",
    "!pip install scikit-learn==0.24.2"
   ]
  },
  {
   "cell_type": "code",
   "execution_count": 3,
   "metadata": {
    "executionInfo": {
     "elapsed": 10,
     "status": "ok",
     "timestamp": 1623927020595,
     "user": {
      "displayName": "윤건일",
      "photoUrl": "",
      "userId": "05157393038207945770"
     },
     "user_tz": -540
    },
    "id": "cEfqCRXcnBIk"
   },
   "outputs": [],
   "source": [
    "# configuration setting\n",
    "def model_config():\n",
    "    # parameter for CNN Model\n",
    "    filter_num = [30]\n",
    "    filter_size = [3]\n",
    "    epochs = [30]\n",
    "    batch_size = [64]\n",
    "    learning_rate = [0.01, 0.001]\n",
    "    \n",
    "    # create config data\n",
    "    configs = []\n",
    "    for i in filter_num:\n",
    "        for j in filter_size:\n",
    "            for k in epochs:\n",
    "                for l in batch_size:\n",
    "                    for m in learning_rate:\n",
    "                        config = [i, j, k, l, m]\n",
    "                        configs.append(config)\n",
    "    return configs\n",
    "\n",
    "# fucntion for fit cnn model using configs\n",
    "def model_fit(train_X, train_y, config):\n",
    "    # unpack config\n",
    "    n_filter, n_fsize, n_epochs, n_batch, learning_rate = config\n",
    "    cnn_params = {'filter_num':n_filter, 'filter_size':n_fsize, \n",
    "                  'stride':1, 'padding':0}\n",
    "    model = CnnModelReg(input_dim=(1, 24, 12),params=cnn_params)\n",
    "    # fit model and return\n",
    "    model.fit(train_X=train_X, train_y=train_y, epochs=n_epochs, \n",
    "              batch_size=n_batch, learning_rate=learning_rate)\n",
    "    return model\n",
    "\n",
    "def MAE_metric(x, t):\n",
    "    t = np.array(t)\n",
    "    return np.mean(numpy.abs(x-t))\n",
    "\n",
    "def MSE_metric(x, t):\n",
    "    t = np.array(t)\n",
    "    return np.mean((x-t)**2)"
   ]
  },
  {
   "cell_type": "code",
   "execution_count": 4,
   "metadata": {
    "colab": {
     "base_uri": "https://localhost:8080/",
     "height": 223
    },
    "executionInfo": {
     "elapsed": 1194,
     "status": "ok",
     "timestamp": 1623927021780,
     "user": {
      "displayName": "윤건일",
      "photoUrl": "",
      "userId": "05157393038207945770"
     },
     "user_tz": -540
    },
    "id": "YfSA0PQ3kVEA",
    "outputId": "acda347e-8b1b-4482-f3d9-69b6bfcd0f6b"
   },
   "outputs": [
    {
     "data": {
      "text/html": [
       "<div>\n",
       "<style scoped>\n",
       "    .dataframe tbody tr th:only-of-type {\n",
       "        vertical-align: middle;\n",
       "    }\n",
       "\n",
       "    .dataframe tbody tr th {\n",
       "        vertical-align: top;\n",
       "    }\n",
       "\n",
       "    .dataframe thead th {\n",
       "        text-align: right;\n",
       "    }\n",
       "</style>\n",
       "<table border=\"1\" class=\"dataframe\">\n",
       "  <thead>\n",
       "    <tr style=\"text-align: right;\">\n",
       "      <th></th>\n",
       "      <th>CO(GT)</th>\n",
       "      <th>PT08.S1(CO)</th>\n",
       "      <th>C6H6(GT)</th>\n",
       "      <th>PT08.S2(NMHC)</th>\n",
       "      <th>NOx(GT)</th>\n",
       "      <th>PT08.S3(NOx)</th>\n",
       "      <th>NO2(GT)</th>\n",
       "      <th>PT08.S4(NO2)</th>\n",
       "      <th>PT08.S5(O3)</th>\n",
       "      <th>T</th>\n",
       "      <th>RH</th>\n",
       "      <th>AH</th>\n",
       "    </tr>\n",
       "  </thead>\n",
       "  <tbody>\n",
       "    <tr>\n",
       "      <th>0</th>\n",
       "      <td>2.6</td>\n",
       "      <td>1360.0</td>\n",
       "      <td>11.9</td>\n",
       "      <td>1046.0</td>\n",
       "      <td>166.0</td>\n",
       "      <td>1056.0</td>\n",
       "      <td>113.0</td>\n",
       "      <td>1692.0</td>\n",
       "      <td>1268.0</td>\n",
       "      <td>13.6</td>\n",
       "      <td>48.9</td>\n",
       "      <td>0.7578</td>\n",
       "    </tr>\n",
       "    <tr>\n",
       "      <th>1</th>\n",
       "      <td>2.0</td>\n",
       "      <td>1292.0</td>\n",
       "      <td>9.4</td>\n",
       "      <td>955.0</td>\n",
       "      <td>103.0</td>\n",
       "      <td>1174.0</td>\n",
       "      <td>92.0</td>\n",
       "      <td>1559.0</td>\n",
       "      <td>972.0</td>\n",
       "      <td>13.3</td>\n",
       "      <td>47.7</td>\n",
       "      <td>0.7255</td>\n",
       "    </tr>\n",
       "    <tr>\n",
       "      <th>2</th>\n",
       "      <td>2.2</td>\n",
       "      <td>1402.0</td>\n",
       "      <td>9.0</td>\n",
       "      <td>939.0</td>\n",
       "      <td>131.0</td>\n",
       "      <td>1140.0</td>\n",
       "      <td>114.0</td>\n",
       "      <td>1555.0</td>\n",
       "      <td>1074.0</td>\n",
       "      <td>11.9</td>\n",
       "      <td>54.0</td>\n",
       "      <td>0.7502</td>\n",
       "    </tr>\n",
       "    <tr>\n",
       "      <th>3</th>\n",
       "      <td>2.2</td>\n",
       "      <td>1376.0</td>\n",
       "      <td>9.2</td>\n",
       "      <td>948.0</td>\n",
       "      <td>172.0</td>\n",
       "      <td>1092.0</td>\n",
       "      <td>122.0</td>\n",
       "      <td>1584.0</td>\n",
       "      <td>1203.0</td>\n",
       "      <td>11.0</td>\n",
       "      <td>60.0</td>\n",
       "      <td>0.7867</td>\n",
       "    </tr>\n",
       "    <tr>\n",
       "      <th>4</th>\n",
       "      <td>1.6</td>\n",
       "      <td>1272.0</td>\n",
       "      <td>6.5</td>\n",
       "      <td>836.0</td>\n",
       "      <td>131.0</td>\n",
       "      <td>1205.0</td>\n",
       "      <td>116.0</td>\n",
       "      <td>1490.0</td>\n",
       "      <td>1110.0</td>\n",
       "      <td>11.2</td>\n",
       "      <td>59.6</td>\n",
       "      <td>0.7888</td>\n",
       "    </tr>\n",
       "  </tbody>\n",
       "</table>\n",
       "</div>"
      ],
      "text/plain": [
       "   CO(GT)  PT08.S1(CO)  C6H6(GT)  ...     T    RH      AH\n",
       "0     2.6       1360.0      11.9  ...  13.6  48.9  0.7578\n",
       "1     2.0       1292.0       9.4  ...  13.3  47.7  0.7255\n",
       "2     2.2       1402.0       9.0  ...  11.9  54.0  0.7502\n",
       "3     2.2       1376.0       9.2  ...  11.0  60.0  0.7867\n",
       "4     1.6       1272.0       6.5  ...  11.2  59.6  0.7888\n",
       "\n",
       "[5 rows x 12 columns]"
      ]
     },
     "execution_count": 4,
     "metadata": {
      "tags": []
     },
     "output_type": "execute_result"
    }
   ],
   "source": [
    "# dataset\n",
    "import zipfile, requests, io\n",
    "import pandas as pd\n",
    "import numpy\n",
    "import time\n",
    "\n",
    "numpy.random.seed(42)\n",
    "np.random.seed(42)\n",
    "\n",
    "data_url = 'https://archive.ics.uci.edu/ml/machine-learning-databases/00360/AirQualityUCI.zip'\n",
    "r = requests.get(data_url)\n",
    "with zipfile.ZipFile(io.BytesIO(r.content)) as z:\n",
    "    with z.open('AirQualityUCI.csv') as f:\n",
    "        df = pd.read_csv(f, sep=';')\n",
    "\n",
    "df = df.iloc[:9357]\n",
    "df.drop(['Date', 'Time', 'Unnamed: 15', 'Unnamed: 16'], axis=1, inplace=True)\n",
    "df = df.astype(str)\n",
    "df.replace('(.*),(.*)', r'\\1.\\2', regex=True, inplace=True)\n",
    "df = df.astype('float')\n",
    "df.replace(-200, numpy.nan, inplace=True)       # -200 is missing value\n",
    "df.drop(['NMHC(GT)'], axis=1, inplace=True)     # almost NaN value\n",
    "df.head()"
   ]
  },
  {
   "cell_type": "code",
   "execution_count": 5,
   "metadata": {
    "colab": {
     "base_uri": "https://localhost:8080/"
    },
    "executionInfo": {
     "elapsed": 970,
     "status": "ok",
     "timestamp": 1623927022745,
     "user": {
      "displayName": "윤건일",
      "photoUrl": "",
      "userId": "05157393038207945770"
     },
     "user_tz": -540
    },
    "id": "sCqzgOockAho",
    "outputId": "4c5d006b-68ba-4565-8173-501d63253add"
   },
   "outputs": [
    {
     "name": "stderr",
     "output_type": "stream",
     "text": [
      "/usr/local/lib/python3.7/dist-packages/statsmodels/tools/_testing.py:19: FutureWarning: pandas.util.testing is deprecated. Use the functions in the public API at pandas.testing instead.\n",
      "  import pandas.util.testing as tm\n"
     ]
    },
    {
     "name": "stdout",
     "output_type": "stream",
     "text": [
      "skewness : 0.7557812558451819\n",
      "kurtosis : 0.33427505050353723\n",
      "jarque bera : 897.8116781627575\n",
      "ADF : -9.823043865717258\n"
     ]
    }
   ],
   "source": [
    "from scipy.stats import skew, kurtosis\n",
    "from statsmodels.tsa.stattools import adfuller\n",
    "\n",
    "# jb = (n/6)*(skewness**2 + (kurtosis**2/4))\n",
    "\n",
    "def data_statistics(df):\n",
    "    df = df.dropna()\n",
    "    data = df.values\n",
    "    num = len(df)\n",
    "    skewness_ = skew(data)\n",
    "    kurtosis_ = kurtosis(data)\n",
    "    jarque_bera_ = (num/6)*(skewness_**2 + (kurtosis_**2/4))\n",
    "    result = adfuller(data)\n",
    "    adf_ = result[0]\n",
    "    print(f'skewness : {skewness_}')\n",
    "    print(f'kurtosis : {kurtosis_}')\n",
    "    print(f'jarque bera : {jarque_bera_}')\n",
    "    print(f'ADF : {adf_}')\n",
    "\n",
    "data_statistics(df['PT08.S1(CO)'])"
   ]
  },
  {
   "cell_type": "code",
   "execution_count": 6,
   "metadata": {
    "colab": {
     "base_uri": "https://localhost:8080/",
     "height": 315
    },
    "executionInfo": {
     "elapsed": 16,
     "status": "ok",
     "timestamp": 1623927022747,
     "user": {
      "displayName": "윤건일",
      "photoUrl": "",
      "userId": "05157393038207945770"
     },
     "user_tz": -540
    },
    "id": "cVX48DHkkBh3",
    "outputId": "894fc2b0-6d8e-4a46-e223-743618b122c4"
   },
   "outputs": [
    {
     "data": {
      "text/html": [
       "<div>\n",
       "<style scoped>\n",
       "    .dataframe tbody tr th:only-of-type {\n",
       "        vertical-align: middle;\n",
       "    }\n",
       "\n",
       "    .dataframe tbody tr th {\n",
       "        vertical-align: top;\n",
       "    }\n",
       "\n",
       "    .dataframe thead th {\n",
       "        text-align: right;\n",
       "    }\n",
       "</style>\n",
       "<table border=\"1\" class=\"dataframe\">\n",
       "  <thead>\n",
       "    <tr style=\"text-align: right;\">\n",
       "      <th></th>\n",
       "      <th>CO(GT)</th>\n",
       "      <th>PT08.S1(CO)</th>\n",
       "      <th>C6H6(GT)</th>\n",
       "      <th>PT08.S2(NMHC)</th>\n",
       "      <th>NOx(GT)</th>\n",
       "      <th>PT08.S3(NOx)</th>\n",
       "      <th>NO2(GT)</th>\n",
       "      <th>PT08.S4(NO2)</th>\n",
       "      <th>PT08.S5(O3)</th>\n",
       "      <th>T</th>\n",
       "      <th>RH</th>\n",
       "      <th>AH</th>\n",
       "    </tr>\n",
       "  </thead>\n",
       "  <tbody>\n",
       "    <tr>\n",
       "      <th>count</th>\n",
       "      <td>7674.000000</td>\n",
       "      <td>8991.000000</td>\n",
       "      <td>8991.000000</td>\n",
       "      <td>8991.000000</td>\n",
       "      <td>7718.000000</td>\n",
       "      <td>8991.000000</td>\n",
       "      <td>7715.000000</td>\n",
       "      <td>8991.000000</td>\n",
       "      <td>8991.000000</td>\n",
       "      <td>8991.000000</td>\n",
       "      <td>8991.000000</td>\n",
       "      <td>8991.000000</td>\n",
       "    </tr>\n",
       "    <tr>\n",
       "      <th>mean</th>\n",
       "      <td>2.152750</td>\n",
       "      <td>1099.833166</td>\n",
       "      <td>10.083105</td>\n",
       "      <td>939.153376</td>\n",
       "      <td>246.896735</td>\n",
       "      <td>835.493605</td>\n",
       "      <td>113.091251</td>\n",
       "      <td>1456.264598</td>\n",
       "      <td>1022.906128</td>\n",
       "      <td>18.317829</td>\n",
       "      <td>49.234201</td>\n",
       "      <td>1.025530</td>\n",
       "    </tr>\n",
       "    <tr>\n",
       "      <th>std</th>\n",
       "      <td>1.453252</td>\n",
       "      <td>217.080037</td>\n",
       "      <td>7.449820</td>\n",
       "      <td>266.831429</td>\n",
       "      <td>212.979168</td>\n",
       "      <td>256.817320</td>\n",
       "      <td>48.370108</td>\n",
       "      <td>346.206794</td>\n",
       "      <td>398.484288</td>\n",
       "      <td>8.832116</td>\n",
       "      <td>17.316892</td>\n",
       "      <td>0.403813</td>\n",
       "    </tr>\n",
       "    <tr>\n",
       "      <th>min</th>\n",
       "      <td>0.100000</td>\n",
       "      <td>647.000000</td>\n",
       "      <td>0.100000</td>\n",
       "      <td>383.000000</td>\n",
       "      <td>2.000000</td>\n",
       "      <td>322.000000</td>\n",
       "      <td>2.000000</td>\n",
       "      <td>551.000000</td>\n",
       "      <td>221.000000</td>\n",
       "      <td>-1.900000</td>\n",
       "      <td>9.200000</td>\n",
       "      <td>0.184700</td>\n",
       "    </tr>\n",
       "    <tr>\n",
       "      <th>25%</th>\n",
       "      <td>1.100000</td>\n",
       "      <td>937.000000</td>\n",
       "      <td>4.400000</td>\n",
       "      <td>734.500000</td>\n",
       "      <td>98.000000</td>\n",
       "      <td>658.000000</td>\n",
       "      <td>78.000000</td>\n",
       "      <td>1227.000000</td>\n",
       "      <td>731.500000</td>\n",
       "      <td>11.800000</td>\n",
       "      <td>35.800000</td>\n",
       "      <td>0.736800</td>\n",
       "    </tr>\n",
       "    <tr>\n",
       "      <th>50%</th>\n",
       "      <td>1.800000</td>\n",
       "      <td>1063.000000</td>\n",
       "      <td>8.200000</td>\n",
       "      <td>909.000000</td>\n",
       "      <td>180.000000</td>\n",
       "      <td>806.000000</td>\n",
       "      <td>109.000000</td>\n",
       "      <td>1463.000000</td>\n",
       "      <td>963.000000</td>\n",
       "      <td>17.800000</td>\n",
       "      <td>49.600000</td>\n",
       "      <td>0.995400</td>\n",
       "    </tr>\n",
       "    <tr>\n",
       "      <th>75%</th>\n",
       "      <td>2.900000</td>\n",
       "      <td>1231.000000</td>\n",
       "      <td>14.000000</td>\n",
       "      <td>1116.000000</td>\n",
       "      <td>326.000000</td>\n",
       "      <td>969.500000</td>\n",
       "      <td>142.000000</td>\n",
       "      <td>1674.000000</td>\n",
       "      <td>1273.500000</td>\n",
       "      <td>24.400000</td>\n",
       "      <td>62.500000</td>\n",
       "      <td>1.313700</td>\n",
       "    </tr>\n",
       "    <tr>\n",
       "      <th>max</th>\n",
       "      <td>11.900000</td>\n",
       "      <td>2040.000000</td>\n",
       "      <td>63.700000</td>\n",
       "      <td>2214.000000</td>\n",
       "      <td>1479.000000</td>\n",
       "      <td>2683.000000</td>\n",
       "      <td>340.000000</td>\n",
       "      <td>2775.000000</td>\n",
       "      <td>2523.000000</td>\n",
       "      <td>44.600000</td>\n",
       "      <td>88.700000</td>\n",
       "      <td>2.231000</td>\n",
       "    </tr>\n",
       "  </tbody>\n",
       "</table>\n",
       "</div>"
      ],
      "text/plain": [
       "            CO(GT)  PT08.S1(CO)  ...           RH           AH\n",
       "count  7674.000000  8991.000000  ...  8991.000000  8991.000000\n",
       "mean      2.152750  1099.833166  ...    49.234201     1.025530\n",
       "std       1.453252   217.080037  ...    17.316892     0.403813\n",
       "min       0.100000   647.000000  ...     9.200000     0.184700\n",
       "25%       1.100000   937.000000  ...    35.800000     0.736800\n",
       "50%       1.800000  1063.000000  ...    49.600000     0.995400\n",
       "75%       2.900000  1231.000000  ...    62.500000     1.313700\n",
       "max      11.900000  2040.000000  ...    88.700000     2.231000\n",
       "\n",
       "[8 rows x 12 columns]"
      ]
     },
     "execution_count": 6,
     "metadata": {
      "tags": []
     },
     "output_type": "execute_result"
    }
   ],
   "source": [
    "df.describe()"
   ]
  },
  {
   "cell_type": "code",
   "execution_count": 7,
   "metadata": {
    "colab": {
     "base_uri": "https://localhost:8080/"
    },
    "executionInfo": {
     "elapsed": 16,
     "status": "ok",
     "timestamp": 1623927022748,
     "user": {
      "displayName": "윤건일",
      "photoUrl": "",
      "userId": "05157393038207945770"
     },
     "user_tz": -540
    },
    "id": "3av2Qk-6kEDL",
    "outputId": "4b074e3a-eb01-4167-b8c7-dc35f720e3bd"
   },
   "outputs": [
    {
     "data": {
      "text/plain": [
       "CO(GT)           1683\n",
       "PT08.S1(CO)       366\n",
       "C6H6(GT)          366\n",
       "PT08.S2(NMHC)     366\n",
       "NOx(GT)          1639\n",
       "PT08.S3(NOx)      366\n",
       "NO2(GT)          1642\n",
       "PT08.S4(NO2)      366\n",
       "PT08.S5(O3)       366\n",
       "T                 366\n",
       "RH                366\n",
       "AH                366\n",
       "dtype: int64"
      ]
     },
     "execution_count": 7,
     "metadata": {
      "tags": []
     },
     "output_type": "execute_result"
    }
   ],
   "source": [
    "df.isnull().sum()"
   ]
  },
  {
   "cell_type": "code",
   "execution_count": 8,
   "metadata": {
    "executionInfo": {
     "elapsed": 14,
     "status": "ok",
     "timestamp": 1623927022749,
     "user": {
      "displayName": "윤건일",
      "photoUrl": "",
      "userId": "05157393038207945770"
     },
     "user_tz": -540
    },
    "id": "6m3jC6yOtW0d"
   },
   "outputs": [],
   "source": [
    "# series data to img function\n",
    "def series_to_img(dataset, time_step=1):\n",
    "    num = dataset.shape[1]      # features num\n",
    "    df = pd.DataFrame(dataset)\n",
    "    cols, names = list(), list()\n",
    "    # sequence t-n to t-1\n",
    "    for i in range(time_step, 0, -1):\n",
    "        cols.append(df.shift(i))\n",
    "        names += [('var%d(t-%d)' % (j+1, i)) for j in range(num)]\n",
    "\n",
    "    for i in range(0, 1):\n",
    "        cols.append(df.shift(-i))\n",
    "        if i == 0:\n",
    "            names += [('var%d(t)' % (j+1)) for j in range(num)]\n",
    "        else:\n",
    "            names += [('var%d(t+%d)' % (j+1, i)) for j in range(num)]\n",
    "\n",
    "    agg = pd.concat(cols, axis=1)\n",
    "    agg.columns = names\n",
    "    agg.dropna(inplace=True)\n",
    "    return agg\n",
    "\n",
    "from sklearn.model_selection import TimeSeriesSplit\n",
    "from sklearn.preprocessing import MinMaxScaler\n",
    "\n",
    "cols = df.columns.tolist()\n",
    "cols = cols[1:2]+cols[0:1]+cols[2:]\n",
    "dataset = df[cols]\n",
    "dataset.ffill(axis=1, inplace=True)                  # forward fill for missing value\n",
    "dataset = dataset.values\n",
    "dataset = dataset.astype('float')\n",
    "\n",
    "n_inputs = 24\n",
    "n_features = 12\n",
    "del_idx = n_inputs * n_features + 1\n",
    "del_cols = [i for i in range(del_idx, del_idx+n_features-1)]\n",
    "new_df = series_to_img(dataset, n_inputs)\n",
    "new_df.drop(new_df.columns[del_cols], axis=1, inplace=True)"
   ]
  },
  {
   "cell_type": "code",
   "execution_count": 9,
   "metadata": {
    "colab": {
     "base_uri": "https://localhost:8080/"
    },
    "executionInfo": {
     "elapsed": 95542,
     "status": "ok",
     "timestamp": 1623927118277,
     "user": {
      "displayName": "윤건일",
      "photoUrl": "",
      "userId": "05157393038207945770"
     },
     "user_tz": -540
    },
    "id": "y4_6KMX6jsjN",
    "outputId": "b9e094d6-91d7-4bfc-e7e9-0cd7c8864731"
   },
   "outputs": [
    {
     "name": "stdout",
     "output_type": "stream",
     "text": [
      "config : filter_num, filter_size, epochs, batch_size, learning_rate\n",
      "fold : 1/3\n",
      " == train [30, 3, 30, 64, 0.01] model ==  error(rmse):129.97\n",
      " == train [30, 3, 30, 64, 0.001] model ==  error(rmse):205.13\n",
      "train-size:1698, val-size:1721, test-size:1721\n",
      "best_model => error(rmse) : 205.13, param:[30, 3, 30, 64, 0.01]\n",
      "\n",
      "fold : 2/3\n",
      " == train [30, 3, 30, 64, 0.01] model ==  error(rmse):112.70\n",
      " == train [30, 3, 30, 64, 0.001] model ==  error(rmse):151.76\n",
      "train-size:3419, val-size:1721, test-size:1721\n",
      "best_model => error(rmse) : 151.76, param:[30, 3, 30, 64, 0.01]\n",
      "\n",
      "fold : 3/3\n",
      " == train [30, 3, 30, 64, 0.01] model ==  error(rmse):1149.35\n",
      " == train [30, 3, 30, 64, 0.001] model ==  error(rmse):1149.48\n",
      "train-size:5140, val-size:1721, test-size:1721\n",
      "best_model => error(rmse) : 1149.48, param:[30, 3, 30, 64, 0.01]\n",
      "\n"
     ]
    }
   ],
   "source": [
    "n_splits = 3\n",
    "test_size = (int)(len(new_df)*0.2)\n",
    "train_test_split = TimeSeriesSplit(n_splits=n_splits+1, gap=n_inputs, test_size=test_size).split(new_df)\n",
    "next(train_test_split)\n",
    "\n",
    "configs = model_config()\n",
    "history = []\n",
    "\n",
    "best_rmse, best_mse, best_mae = [], [], []\n",
    "\n",
    "i = 1\n",
    "\n",
    "print('config : filter_num, filter_size, epochs, batch_size, learning_rate')\n",
    "\n",
    "# nested cross validation for time series model\n",
    "for train_cv_indices, test_cv_indices in train_test_split:\n",
    "    print(f'fold : {i}/{n_splits}')\n",
    "    i+=1\n",
    "\n",
    "    # split x, y data\n",
    "    train_cv_X, train_cv_y = new_df.iloc[train_cv_indices, :-1].values, new_df.iloc[train_cv_indices,-1].values\n",
    "    test_cv_X, test_cv_y = new_df.iloc[test_cv_indices, :-1].values, new_df.iloc[test_cv_indices, -1].values\n",
    "\n",
    "    # length for validation set\n",
    "    test_length = len(test_cv_X)\n",
    "\n",
    "    # scaling data\n",
    "    scaler_x = MinMaxScaler()\n",
    "    train_cv_X = scaler_x.fit_transform(train_cv_X)\n",
    "    test_cv_X = scaler_x.transform(test_cv_X)\n",
    "\n",
    "    train_X, val_X = train_cv_X[:-test_length, :], train_cv_X[-test_length:, :]\n",
    "    train_y, val_y = train_cv_y[:-test_length], train_cv_y[-test_length:]\n",
    "\n",
    "    # reshape\n",
    "    # inner loop\n",
    "    train_X = train_X.reshape(-1, 1, n_inputs, n_features)\n",
    "    val_X = val_X.reshape(-1, 1, n_inputs, n_features)\n",
    "    train_y = train_y.reshape(-1, 1)\n",
    "    val_y = val_y.reshape(-1, 1)\n",
    "\n",
    "    # outer loop\n",
    "    train_cv_X = train_cv_X.reshape(-1, 1, n_inputs, n_features)\n",
    "    test_cv_X = test_cv_X.reshape(-1, 1, n_inputs, n_features)\n",
    "    train_cv_y = train_cv_y.reshape(-1, 1)\n",
    "    test_cv_y = test_cv_y.reshape(-1, 1)\n",
    "\n",
    "    # model fit, inner\n",
    "    errors = []\n",
    "    for idx, cfg in enumerate(configs):\n",
    "        print(f' == train {cfg} model == ', end=' ')\n",
    "        model = model_fit(train_X, train_y, cfg)\n",
    "        predicted = model.predict(val_X)\n",
    "        error = np.sqrt(MSE_metric(predicted, val_y))   # rmse\n",
    "        print(f'error(rmse):{error.item():.2f}')\n",
    "        if errors:\n",
    "            if error < min(errors):\n",
    "                param = idx\n",
    "        else:\n",
    "            param = idx\n",
    "        errors.append(error)\n",
    "\n",
    "    history.append(errors)\n",
    "\n",
    "    # outer\n",
    "    selected_model = model_fit(train_cv_X,train_cv_y, configs[param])\n",
    "    predicted = selected_model.predict(test_cv_X)\n",
    "    \n",
    "    rmse = np.sqrt(MSE_metric(predicted, test_cv_y))\n",
    "    mse = MSE_metric(predicted, test_cv_y)\n",
    "    mae = MAE_metric(predicted, test_cv_y)\n",
    "    best_rmse.append(rmse)\n",
    "    best_mse.append(mse)\n",
    "    best_mae.append(mae)\n",
    "\n",
    "    # model eval\n",
    "    print(f'train-size:{train_X.shape[0]}, val-size:{val_X.shape[0]}, test-size:{test_cv_X.shape[0]}')\n",
    "    print(f'best_model => error(rmse) : {error.item():.2f}, param:{configs[param]}')\n",
    "    print()"
   ]
  },
  {
   "cell_type": "code",
   "execution_count": 10,
   "metadata": {
    "colab": {
     "base_uri": "https://localhost:8080/"
    },
    "executionInfo": {
     "elapsed": 425,
     "status": "ok",
     "timestamp": 1623927118684,
     "user": {
      "displayName": "윤건일",
      "photoUrl": "",
      "userId": "05157393038207945770"
     },
     "user_tz": -540
    },
    "id": "9oOORgkR1FG9",
    "outputId": "685c5796-e0aa-45db-f65a-e7bf3c4271d9"
   },
   "outputs": [
    {
     "name": "stdout",
     "output_type": "stream",
     "text": [
      "MSE: mean=11173.848870462612, std=2066.2900764370725\n",
      "RMSE: mean=105.24254303053824, std=9.892219514745893\n",
      "MAE: mean=79.1737691022973, std=8.538848993582732\n"
     ]
    }
   ],
   "source": [
    "predicted = selected_model.predict(test_cv_X)\n",
    "\n",
    "def model_evaluation(mse, rmse, mae):\n",
    "    mse = np.array(mse)\n",
    "    rmse = np.array(rmse)\n",
    "    mae = np.array(mae)\n",
    "    print(f'MSE: mean={np.mean(mse)}, std={np.std(mse)}')\n",
    "    print(f'RMSE: mean={np.mean(rmse)}, std={np.std(rmse)}')\n",
    "    print(f'MAE: mean={np.mean(mae)}, std={np.std(mae)}')\n",
    "\n",
    "model_evaluation(best_mse, best_rmse, best_mae)"
   ]
  },
  {
   "cell_type": "code",
   "execution_count": 10,
   "metadata": {
    "executionInfo": {
     "elapsed": 4,
     "status": "ok",
     "timestamp": 1623927118685,
     "user": {
      "displayName": "윤건일",
      "photoUrl": "",
      "userId": "05157393038207945770"
     },
     "user_tz": -540
    },
    "id": "fOwbyFxeqWru"
   },
   "outputs": [],
   "source": []
  }
 ],
 "metadata": {
  "accelerator": "GPU",
  "colab": {
   "authorship_tag": "ABX9TyMhU3bWMqLqK32pyaKsHMGs",
   "collapsed_sections": [],
   "mount_file_id": "1zu9e8AtsrGXJCtcIxsfPmoLGiRFkKpRA",
   "name": "AirQuality-CNN-Regression.ipynb",
   "provenance": []
  },
  "kernelspec": {
   "display_name": "Python 3",
   "language": "python",
   "name": "python3"
  },
  "language_info": {
   "codemirror_mode": {
    "name": "ipython",
    "version": 3
   },
   "file_extension": ".py",
   "mimetype": "text/x-python",
   "name": "python",
   "nbconvert_exporter": "python",
   "pygments_lexer": "ipython3",
   "version": "3.8.8"
  }
 },
 "nbformat": 4,
 "nbformat_minor": 4
}
